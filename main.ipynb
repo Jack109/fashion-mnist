{
 "cells": [
  {
   "cell_type": "markdown",
   "metadata": {},
   "source": [
    "### Labels\n",
    "Each training and test example is assigned to one of the following labels:\n",
    "\n",
    "| Label | Description |\n",
    "| --- | --- |\n",
    "| 0 | T-shirt/top |\n",
    "| 1 | Trouser |\n",
    "| 2 | Pullover |\n",
    "| 3 | Dress |\n",
    "| 4 | Coat |\n",
    "| 5 | Sandal |\n",
    "| 6 | Shirt |\n",
    "| 7 | Sneaker |\n",
    "| 8 | Bag |\n",
    "| 9 | Ankle boot |"
   ]
  },
  {
   "cell_type": "code",
   "execution_count": 24,
   "metadata": {},
   "outputs": [],
   "source": [
    "import matplotlib.pyplot as plt\n",
    "import numpy as np\n",
    "\n",
    "from utils import mnist_reader\n",
    "X_train, y_train = mnist_reader.load_mnist('data/fashion', kind='train')\n",
    "X_test, y_test = mnist_reader.load_mnist('data/fashion', kind='t10k')\n",
    "\n",
    "def get_accuracy(predicted, actual):\n",
    "    accuracy = (predicted == actual).sum() / len(actual) * 100\n",
    "    return accuracy\n",
    "\n",
    "def benchmark(classifier):\n",
    "    from datetime import datetime\n",
    "    time1 = datetime.now()\n",
    "    cls = classifier()\n",
    "    name = cls.__class__.__name__\n",
    "    print(\"Training data using \", name)\n",
    "    cls.fit(X_train, y_train)\n",
    "    time2 = datetime.now()\n",
    "    print(\"Time elapsed for training   = \", str(time2 - time1))\n",
    "    predicted = cls.predict(X_test)\n",
    "    time3 = datetime.now()\n",
    "    print(\"Time elapsed for prediction = \", str(time3 - time2))\n",
    "    print(f\"Accuracy of {name} is {get_accuracy(predicted, y_test)}%\")\n"
   ]
  },
  {
   "cell_type": "code",
   "execution_count": 3,
   "metadata": {},
   "outputs": [
    {
     "name": "stdout",
     "output_type": "stream",
     "text": [
      "(784,)\n"
     ]
    }
   ],
   "source": [
    "print(X_train[0].shape)"
   ]
  },
  {
   "cell_type": "code",
   "execution_count": 7,
   "metadata": {},
   "outputs": [
    {
     "name": "stdout",
     "output_type": "stream",
     "text": [
      "[  0   0   0   0   0   0   0   0   0   0   0   0   0   0   0   0   0   0\n",
      "   0   0   0   0   0   0   0   0   0   0   0   0   0   0   0   0   0   0\n",
      "   0   0   0   0   0   0   0   0   0   0   0   0   0   0   0   0   0   0\n",
      "   0   0   0   0   0   0   0   0   0   0   0   0   0   0   0   0   0   0\n",
      "   0   0   0   0   0   0   0   0   0   0   0   0   0   0   0   0   0   0\n",
      "   0   0   0   0   0   0   1   0   0  13  73   0   0   1   4   0   0   0\n",
      "   0   1   1   0   0   0   0   0   0   0   0   0   0   0   0   0   3   0\n",
      "  36 136 127  62  54   0   0   0   1   3   4   0   0   3   0   0   0   0\n",
      "   0   0   0   0   0   0   0   0   6   0 102 204 176 134 144 123  23   0\n",
      "   0   0   0  12  10   0   0   0   0   0   0   0   0   0   0   0   0   0\n",
      "   0   0 155 236 207 178 107 156 161 109  64  23  77 130  72  15   0   0\n",
      "   0   0   0   0   0   0   0   0   0   1   0  69 207 223 218 216 216 163\n",
      " 127 121 122 146 141  88 172  66   0   0   0   0   0   0   0   0   0   1\n",
      "   1   1   0 200 232 232 233 229 223 223 215 213 164 127 123 196 229   0\n",
      "   0   0   0   0   0   0   0   0   0   0   0   0   0 183 225 216 223 228\n",
      " 235 227 224 222 224 221 223 245 173   0   0   0   0   0   0   0   0   0\n",
      "   0   0   0   0   0 193 228 218 213 198 180 212 210 211 213 223 220 243\n",
      " 202   0   0   0   0   0   0   0   0   0   0   1   3   0  12 219 220 212\n",
      " 218 192 169 227 208 218 224 212 226 197 209  52   0   0   0   0   0   0\n",
      "   0   0   0   0   6   0  99 244 222 220 218 203 198 221 215 213 222 220\n",
      " 245 119 167  56   0   0   0   0   0   0   0   0   0   4   0   0  55 236\n",
      " 228 230 228 240 232 213 218 223 234 217 217 209  92   0   0   0   1   4\n",
      "   6   7   2   0   0   0   0   0 237 226 217 223 222 219 222 221 216 223\n",
      " 229 215 218 255  77   0   0   3   0   0   0   0   0   0   0  62 145 204\n",
      " 228 207 213 221 218 208 211 218 224 223 219 215 224 244 159   0   0   0\n",
      "   0   0  18  44  82 107 189 228 220 222 217 226 200 205 211 230 224 234\n",
      " 176 188 250 248 233 238 215   0   0  57 187 208 224 221 224 208 204 214\n",
      " 208 209 200 159 245 193 206 223 255 255 221 234 221 211 220 232 246   0\n",
      "   3 202 228 224 221 211 211 214 205 205 205 220 240  80 150 255 229 221\n",
      " 188 154 191 210 204 209 222 228 225   0  98 233 198 210 222 229 229 234\n",
      " 249 220 194 215 217 241  65  73 106 117 168 219 221 215 217 223 223 224\n",
      " 229  29  75 204 212 204 193 205 211 225 216 185 197 206 198 213 240 195\n",
      " 227 245 239 223 218 212 209 222 220 221 230  67  48 203 183 194 213 197\n",
      " 185 190 194 192 202 214 219 221 220 236 225 216 199 206 186 181 177 172\n",
      " 181 205 206 115   0 122 219 193 179 171 183 196 204 210 213 207 211 210\n",
      " 200 196 194 191 195 191 198 192 176 156 167 177 210  92   0   0  74 189\n",
      " 212 191 175 172 175 181 185 188 189 188 193 198 204 209 210 210 211 188\n",
      " 188 194 192 216 170   0   2   0   0   0  66 200 222 237 239 242 246 243\n",
      " 244 221 220 193 191 179 182 182 181 176 166 168  99  58   0   0   0   0\n",
      "   0   0   0   0   0  40  61  44  72  41  35   0   0   0   0   0   0   0\n",
      "   0   0   0   0   0   0   0   0   0   0   0   0   0   0   0   0   0   0\n",
      "   0   0   0   0   0   0   0   0   0   0   0   0   0   0   0   0   0   0\n",
      "   0   0   0   0   0   0   0   0   0   0   0   0   0   0   0   0   0   0\n",
      "   0   0   0   0   0   0   0   0   0   0]\n"
     ]
    }
   ],
   "source": [
    "test_data_1 = X_train[0]\n",
    "print(test_data_1)"
   ]
  },
  {
   "cell_type": "code",
   "execution_count": 12,
   "metadata": {},
   "outputs": [
    {
     "data": {
      "image/png": "[encoded data removed]",
      "text/plain": [
       "<matplotlib.figure.Figure at 0x7fe391634f98>"
      ]
     },
     "metadata": {},
     "output_type": "display_data"
    }
   ],
   "source": [
    "# As mentioned in README, all data are in 28x28 pixels\n",
    "plt.imshow(test_data_1.reshape(28,28))\n",
    "plt.show()"
   ]
  },
  {
   "cell_type": "code",
   "execution_count": 31,
   "metadata": {},
   "outputs": [
    {
     "ename": "KeyboardInterrupt",
     "evalue": "",
     "output_type": "error",
     "traceback": [
      "\u001b[0;31m---------------------------------------------------------------\u001b[0m",
      "\u001b[0;31mKeyboardInterrupt\u001b[0m             Traceback (most recent call last)",
      "\u001b[0;32m<ipython-input-31-fbeb7a9f215b>\u001b[0m in \u001b[0;36m<module>\u001b[0;34m()\u001b[0m\n\u001b[1;32m      2\u001b[0m \u001b[0;32mfrom\u001b[0m \u001b[0msklearn\u001b[0m\u001b[0;34m.\u001b[0m\u001b[0mneighbors\u001b[0m \u001b[0;32mimport\u001b[0m \u001b[0mKNeighborsClassifier\u001b[0m\u001b[0;34m\u001b[0m\u001b[0m\n\u001b[1;32m      3\u001b[0m \u001b[0mneigh\u001b[0m \u001b[0;34m=\u001b[0m \u001b[0mKNeighborsClassifier\u001b[0m\u001b[0;34m(\u001b[0m\u001b[0mn_neighbors\u001b[0m\u001b[0;34m=\u001b[0m\u001b[0;36m3\u001b[0m\u001b[0;34m)\u001b[0m\u001b[0;34m\u001b[0m\u001b[0m\n\u001b[0;32m----> 4\u001b[0;31m \u001b[0mneigh\u001b[0m\u001b[0;34m.\u001b[0m\u001b[0mfit\u001b[0m\u001b[0;34m(\u001b[0m\u001b[0mX_train\u001b[0m\u001b[0;34m,\u001b[0m \u001b[0my_train\u001b[0m\u001b[0;34m)\u001b[0m\u001b[0;34m\u001b[0m\u001b[0m\n\u001b[0m",
      "\u001b[0;32m~/anaconda3/lib/python3.6/site-packages/sklearn/neighbors/base.py\u001b[0m in \u001b[0;36mfit\u001b[0;34m(self, X, y)\u001b[0m\n\u001b[1;32m    788\u001b[0m             \u001b[0mself\u001b[0m\u001b[0;34m.\u001b[0m\u001b[0m_y\u001b[0m \u001b[0;34m=\u001b[0m \u001b[0mself\u001b[0m\u001b[0;34m.\u001b[0m\u001b[0m_y\u001b[0m\u001b[0;34m.\u001b[0m\u001b[0mravel\u001b[0m\u001b[0;34m(\u001b[0m\u001b[0;34m)\u001b[0m\u001b[0;34m\u001b[0m\u001b[0m\n\u001b[1;32m    789\u001b[0m \u001b[0;34m\u001b[0m\u001b[0m\n\u001b[0;32m--> 790\u001b[0;31m         \u001b[0;32mreturn\u001b[0m \u001b[0mself\u001b[0m\u001b[0;34m.\u001b[0m\u001b[0m_fit\u001b[0m\u001b[0;34m(\u001b[0m\u001b[0mX\u001b[0m\u001b[0;34m)\u001b[0m\u001b[0;34m\u001b[0m\u001b[0m\n\u001b[0m\u001b[1;32m    791\u001b[0m \u001b[0;34m\u001b[0m\u001b[0m\n\u001b[1;32m    792\u001b[0m \u001b[0;34m\u001b[0m\u001b[0m\n",
      "\u001b[0;32m~/anaconda3/lib/python3.6/site-packages/sklearn/neighbors/base.py\u001b[0m in \u001b[0;36m_fit\u001b[0;34m(self, X)\u001b[0m\n\u001b[1;32m    246\u001b[0m             self._tree = KDTree(X, self.leaf_size,\n\u001b[1;32m    247\u001b[0m                                 \u001b[0mmetric\u001b[0m\u001b[0;34m=\u001b[0m\u001b[0mself\u001b[0m\u001b[0;34m.\u001b[0m\u001b[0meffective_metric_\u001b[0m\u001b[0;34m,\u001b[0m\u001b[0;34m\u001b[0m\u001b[0m\n\u001b[0;32m--> 248\u001b[0;31m                                 **self.effective_metric_params_)\n\u001b[0m\u001b[1;32m    249\u001b[0m         \u001b[0;32melif\u001b[0m \u001b[0mself\u001b[0m\u001b[0;34m.\u001b[0m\u001b[0m_fit_method\u001b[0m \u001b[0;34m==\u001b[0m \u001b[0;34m'brute'\u001b[0m\u001b[0;34m:\u001b[0m\u001b[0;34m\u001b[0m\u001b[0m\n\u001b[1;32m    250\u001b[0m             \u001b[0mself\u001b[0m\u001b[0;34m.\u001b[0m\u001b[0m_tree\u001b[0m \u001b[0;34m=\u001b[0m \u001b[0;32mNone\u001b[0m\u001b[0;34m\u001b[0m\u001b[0m\n",
      "\u001b[0;31mKeyboardInterrupt\u001b[0m: "
     ]
    }
   ],
   "source": [
    "# Train the classifier\n",
    "from sklearn.neighbors import KNeighborsClassifier\n",
    "neigh = KNeighborsClassifier(n_neighbors=3)\n",
    "neigh.fit(X_train, y_train)\n"
   ]
  },
  {
   "cell_type": "code",
   "execution_count": 23,
   "metadata": {},
   "outputs": [
    {
     "name": "stdout",
     "output_type": "stream",
     "text": [
      "The original label is  9\n",
      "The predicted label is  [9]\n"
     ]
    }
   ],
   "source": [
    "original_label = y_test[0]\n",
    "print(\"The original label is \" , original_label)\n",
    "\n",
    "predicted_label = neigh.predict([X_test[0]])\n",
    "print(\"The predicted label is \" , predicted_label)\n"
   ]
  },
  {
   "cell_type": "code",
   "execution_count": 53,
   "metadata": {},
   "outputs": [
    {
     "name": "stdout",
     "output_type": "stream",
     "text": [
      "[9 2 1 ..., 8 1 7]\n",
      "Time elapsed is  0:11:33.454861\n"
     ]
    }
   ],
   "source": [
    "from datetime import datetime\n",
    "start = datetime.now()\n",
    "predicted = neigh.predict(X_test)\n",
    "end = datetime.now()\n",
    "print(predicted)\n",
    "print(\"Time elapsed is \", str(end - start))\n",
    "    "
   ]
  },
  {
   "cell_type": "code",
   "execution_count": 37,
   "metadata": {},
   "outputs": [
    {
     "data": {
      "text/plain": [
       "array([ True,  True,  True, ...,  True,  True, False], dtype=bool)"
      ]
     },
     "execution_count": 37,
     "metadata": {},
     "output_type": "execute_result"
    }
   ],
   "source": [
    "(predicted == y_test)\n"
   ]
  },
  {
   "cell_type": "code",
   "execution_count": 54,
   "metadata": {},
   "outputs": [
    {
     "name": "stdout",
     "output_type": "stream",
     "text": [
      "Accuracy of KNeighbor(n=3) is  85.41\n"
     ]
    }
   ],
   "source": [
    "accuracy = (predicted == y_test).sum() / len(y_test)\n",
    "print(\"Accuracy of KNeighbor(n=3) is \", (accuracy * 100))"
   ]
  },
  {
   "cell_type": "code",
   "execution_count": 32,
   "metadata": {},
   "outputs": [
    {
     "name": "stdout",
     "output_type": "stream",
     "text": [
      "Training data using  KNeighborsClassifier\n",
      "Time elapsed for training   =  0:00:13.413656\n",
      "Time elapsed for prediction =  0:11:20.999788\n",
      "Accuracy of KNeighborsClassifier is 85.54%\n"
     ]
    }
   ],
   "source": [
    "from sklearn.neighbors import KNeighborsClassifier\n",
    "benchmark(KNeighborsClassifier)"
   ]
  },
  {
   "cell_type": "code",
   "execution_count": 27,
   "metadata": {},
   "outputs": [
    {
     "name": "stdout",
     "output_type": "stream",
     "text": [
      "Training data using  DecisionTreeClassifier\n",
      "Time elapsed for training   =  0:00:41.597725\n",
      "Time elapsed for prediction =  0:00:00.017140\n",
      "Accuracy of DecisionTreeClassifier is 78.96%\n"
     ]
    }
   ],
   "source": [
    "from sklearn.tree import DecisionTreeClassifier\n",
    "benchmark(DecisionTreeClassifier)"
   ]
  },
  {
   "cell_type": "code",
   "execution_count": 25,
   "metadata": {},
   "outputs": [
    {
     "name": "stdout",
     "output_type": "stream",
     "text": [
      "Training data using  GaussianNB\n",
      "Time elapsed for training   =  0:00:00.744469\n",
      "Time elapsed for prediction =  0:00:00.831202\n",
      "Accuracy of GaussianNB is 58.56%\n"
     ]
    }
   ],
   "source": [
    "from sklearn.naive_bayes import GaussianNB\n",
    "benchmark(GaussianNB)"
   ]
  },
  {
   "cell_type": "code",
   "execution_count": 26,
   "metadata": {},
   "outputs": [
    {
     "name": "stdout",
     "output_type": "stream",
     "text": [
      "Training data using  MLPClassifier\n",
      "Time elapsed for training   =  0:00:32.213279\n",
      "Time elapsed for prediction =  0:00:00.061604\n",
      "Accuracy of MLPClassifier is 84.73%\n"
     ]
    }
   ],
   "source": [
    "from sklearn.neural_network import MLPClassifier\n",
    "benchmark(MLPClassifier)"
   ]
  },
  {
   "cell_type": "code",
   "execution_count": 29,
   "metadata": {},
   "outputs": [
    {
     "name": "stdout",
     "output_type": "stream",
     "text": [
      "Training data using  RandomForestClassifier\n",
      "Time elapsed for training   =  0:00:08.361058\n",
      "Time elapsed for prediction =  0:00:00.056093\n",
      "Accuracy of RandomForestClassifier is 85.49%\n"
     ]
    }
   ],
   "source": [
    "from sklearn.ensemble import RandomForestClassifier, AdaBoostClassifier\n",
    "benchmark(RandomForestClassifier)"
   ]
  },
  {
   "cell_type": "code",
   "execution_count": 30,
   "metadata": {},
   "outputs": [
    {
     "name": "stdout",
     "output_type": "stream",
     "text": [
      "Training data using  AdaBoostClassifier\n",
      "Time elapsed for training   =  0:01:44.138183\n",
      "Time elapsed for prediction =  0:00:00.369755\n",
      "Accuracy of AdaBoostClassifier is 54.25%\n"
     ]
    }
   ],
   "source": [
    "benchmark(AdaBoostClassifier)"
   ]
  },
  {
   "cell_type": "code",
   "execution_count": 33,
   "metadata": {},
   "outputs": [
    {
     "name": "stdout",
     "output_type": "stream",
     "text": [
      "Training data using  QuadraticDiscriminantAnalysis\n"
     ]
    },
    {
     "name": "stderr",
     "output_type": "stream",
     "text": [
      "/home/hou32hou/anaconda3/lib/python3.6/site-packages/sklearn/discriminant_analysis.py:682: UserWarning: Variables are collinear\n",
      "  warnings.warn(\"Variables are collinear\")\n"
     ]
    },
    {
     "name": "stdout",
     "output_type": "stream",
     "text": [
      "Time elapsed for training   =  0:00:07.624310\n",
      "Time elapsed for prediction =  0:00:02.766923\n",
      "Accuracy of QuadraticDiscriminantAnalysis is 56.42%\n"
     ]
    }
   ],
   "source": [
    "from sklearn.discriminant_analysis import QuadraticDiscriminantAnalysis\n",
    "benchmark(QuadraticDiscriminantAnalysis)"
   ]
  }
 ],
 "metadata": {
  "kernelspec": {
   "display_name": "Python 3",
   "language": "python",
   "name": "python3"
  },
  "language_info": {
   "codemirror_mode": {
    "name": "ipython",
    "version": 3
   },
   "file_extension": ".py",
   "mimetype": "text/x-python",
   "name": "python",
   "nbconvert_exporter": "python",
   "pygments_lexer": "ipython3",
   "version": "3.6.3"
  }
 },
 "nbformat": 4,
 "nbformat_minor": 2
}
